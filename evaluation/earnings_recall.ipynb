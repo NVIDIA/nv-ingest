{
 "cells": [
  {
   "cell_type": "markdown",
   "id": "531cde45-43ce-4822-942f-1f9df7414f54",
   "metadata": {},
   "source": [
    "# Evaluate earnings consulting retrieval recall accuracy with NV-Ingest and Milvus"
   ]
  },
  {
   "cell_type": "markdown",
   "id": "7720fd28-fe8c-44e8-9000-c2d287f0fd78",
   "metadata": {},
   "source": [
    "In this notebook, we'll use NV-ingest to get the end-to-end recall accuracy of a retrieval pipeline made up of NV-Ingest's extraction and embedding tasks and a Milvus vector database (VDB)."
   ]
  },
  {
   "cell_type": "code",
   "execution_count": 89,
   "id": "73dd707b-32e3-4012-a7aa-d241b580afcc",
   "metadata": {},
   "outputs": [],
   "source": [
    "from pymilvus import MilvusClient\n",
    "\n",
    "milvus_client = MilvusClient(\"http://localhost:19530\")\n",
    "# milvus_client.drop_collection(collection_name='earnings')"
   ]
  },
  {
   "cell_type": "code",
   "execution_count": 3,
   "id": "4724c087-bfdd-46ca-bfaf-6a7e615bc0f7",
   "metadata": {},
   "outputs": [],
   "source": [
    "from nv_ingest_client.client import Ingestor\n",
    "\n",
    "ingestor = (\n",
    "    Ingestor(message_client_hostname=\"localhost\")\n",
    "    .files(\"../data/earnings_consulting/*/*.pdf\")\n",
    "    .extract(\n",
    "        extract_text=True,\n",
    "        extract_tables=True,\n",
    "        extract_charts=True,\n",
    "        extract_infographics=True,\n",
    "        extract_images=False,\n",
    "        text_depth=\"page\",\n",
    "    ).embed()\n",
    ")\n",
    "\n",
    "results = ingestor.ingest(show_progress=True)"
   ]
  },
  {
   "cell_type": "code",
   "execution_count": 5,
   "id": "01286a63-267f-49fa-ac7f-5adbb73cd8df",
   "metadata": {},
   "outputs": [
    {
     "data": {
      "text/plain": [
       "514"
      ]
     },
     "execution_count": 5,
     "metadata": {},
     "output_type": "execute_result"
    }
   ],
   "source": [
    "len(results)"
   ]
  },
  {
   "cell_type": "code",
   "execution_count": 4,
   "id": "d633dd86-c065-41cf-bfb1-77fd8384b826",
   "metadata": {},
   "outputs": [],
   "source": [
    "# Optional: save results\n",
    "import pickle\n",
    "\n",
    "with open('earnings_results.obj', 'wb') as f:\n",
    "    pickle.dump(results, f)"
   ]
  },
  {
   "cell_type": "code",
   "execution_count": 13,
   "id": "a5022859-bce4-49be-aecb-83f0926a2956",
   "metadata": {},
   "outputs": [],
   "source": [
    "# Optional: load results\n",
    "import pickle\n",
    "\n",
    "with open('earnings_results.obj', 'rb') as f:\n",
    "    results = pickle.load(f)"
   ]
  },
  {
   "cell_type": "markdown",
   "id": "4bae7748-9b77-4f74-bce9-8a6775c7bf62",
   "metadata": {},
   "source": [
    "Filter empty"
   ]
  },
  {
   "cell_type": "code",
   "execution_count": 14,
   "id": "2f1f8275-3d32-4bf0-8022-07260ab47227",
   "metadata": {},
   "outputs": [],
   "source": [
    "results = [[element for element in result if element['metadata']['embedding'] is not None] for result in results]"
   ]
  },
  {
   "cell_type": "markdown",
   "id": "595bcf60-3372-4ed7-ad58-a383b21e235b",
   "metadata": {},
   "source": [
    "Filter duplicate PDFs"
   ]
  },
  {
   "cell_type": "code",
   "execution_count": 15,
   "id": "16eb9616-c192-4074-a235-1817e862359a",
   "metadata": {},
   "outputs": [],
   "source": [
    "results = [result for result in results if result[0]['metadata']['source_metadata']['source_id'].split('/')[-1] not in set(['overview-evidence-review-of-data-and-information_1.pdf','corporateventuresinsweden-190228155032_1.pdf'])]"
   ]
  },
  {
   "cell_type": "code",
   "execution_count": 10,
   "id": "51e79739-4b91-4996-879e-6587891de547",
   "metadata": {},
   "outputs": [
    {
     "name": "stderr",
     "output_type": "stream",
     "text": [
      "/raid/cjarrett/miniconda3/envs/nv-ingest-dev-4/lib/python3.10/site-packages/tqdm/auto.py:21: TqdmWarning: IProgress not found. Please update jupyter and ipywidgets. See https://ipywidgets.readthedocs.io/en/stable/user_install.html\n",
      "  from .autonotebook import tqdm as notebook_tqdm\n",
      "[nltk_data] Downloading package punkt_tab to\n",
      "[nltk_data]     /raid/cjarrett/miniconda3/envs/nv-ingest-\n",
      "[nltk_data]     dev-4/lib/python3.10/site-\n",
      "[nltk_data]     packages/llama_index/core/_static/nltk_cache...\n",
      "[nltk_data]   Package punkt_tab is already up-to-date!\n"
     ]
    }
   ],
   "source": [
    "from nv_ingest_client.util.milvus import write_to_nvingest_collection, create_nvingest_collection, nvingest_retrieval\n",
    "\n",
    "sparse = False\n",
    "milvus_hostname = \"localhost\"\n",
    "create_nvingest_collection(\"earnings\", f\"http://{milvus_hostname}:19530\", sparse=sparse)"
   ]
  },
  {
   "cell_type": "code",
   "execution_count": null,
   "id": "69eaf930-e2ab-49b9-8230-67b7e61ee134",
   "metadata": {},
   "outputs": [],
   "source": [
    "write_to_nvingest_collection(results, \"earnings\", sparse=sparse, milvus_uri=f\"http://{milvus_hostname}:19530\", minio_endpoint=\"localhost:9000\")"
   ]
  },
  {
   "cell_type": "code",
   "execution_count": 1,
   "id": "a15c5041-7c56-4f1f-904d-69631ab3ca46",
   "metadata": {
    "scrolled": true
   },
   "outputs": [
    {
     "data": {
      "text/html": [
       "<div>\n",
       "<style scoped>\n",
       "    .dataframe tbody tr th:only-of-type {\n",
       "        vertical-align: middle;\n",
       "    }\n",
       "\n",
       "    .dataframe tbody tr th {\n",
       "        vertical-align: top;\n",
       "    }\n",
       "\n",
       "    .dataframe thead th {\n",
       "        text-align: right;\n",
       "    }\n",
       "</style>\n",
       "<table border=\"1\" class=\"dataframe\">\n",
       "  <thead>\n",
       "    <tr style=\"text-align: right;\">\n",
       "      <th></th>\n",
       "      <th>dir</th>\n",
       "      <th>pdf</th>\n",
       "      <th>page</th>\n",
       "      <th>query</th>\n",
       "      <th>answer</th>\n",
       "      <th>modality</th>\n",
       "      <th>xywh</th>\n",
       "      <th>pdf_page</th>\n",
       "      <th>query_id</th>\n",
       "    </tr>\n",
       "  </thead>\n",
       "  <tbody>\n",
       "    <tr>\n",
       "      <th>0</th>\n",
       "      <td>amazon_earnings_call</td>\n",
       "      <td>004e15aa-5d50-4fb3-9e2f-0ad36639778f</td>\n",
       "      <td>7</td>\n",
       "      <td>How many shares of Rivian’s Class A stock are ...</td>\n",
       "      <td>158 million</td>\n",
       "      <td>text</td>\n",
       "      <td>NaN</td>\n",
       "      <td>004e15aa-5d50-4fb3-9e2f-0ad36639778f_7</td>\n",
       "      <td>0</td>\n",
       "    </tr>\n",
       "    <tr>\n",
       "      <th>1</th>\n",
       "      <td>amazon_earnings_call</td>\n",
       "      <td>004e15aa-5d50-4fb3-9e2f-0ad36639778f</td>\n",
       "      <td>9</td>\n",
       "      <td>What is fair value?</td>\n",
       "      <td>the price that would be received to sell an as...</td>\n",
       "      <td>text</td>\n",
       "      <td>NaN</td>\n",
       "      <td>004e15aa-5d50-4fb3-9e2f-0ad36639778f_9</td>\n",
       "      <td>1</td>\n",
       "    </tr>\n",
       "    <tr>\n",
       "      <th>2</th>\n",
       "      <td>amazon_earnings_call</td>\n",
       "      <td>004e15aa-5d50-4fb3-9e2f-0ad36639778f</td>\n",
       "      <td>33</td>\n",
       "      <td>What are the the key business and industry cha...</td>\n",
       "      <td>we have many competitors across geographies, i...</td>\n",
       "      <td>text</td>\n",
       "      <td>NaN</td>\n",
       "      <td>004e15aa-5d50-4fb3-9e2f-0ad36639778f_33</td>\n",
       "      <td>2</td>\n",
       "    </tr>\n",
       "    <tr>\n",
       "      <th>3</th>\n",
       "      <td>amazon_earnings_call</td>\n",
       "      <td>06c52e44-38c4-42b0-90c4-14916435e83e</td>\n",
       "      <td>22</td>\n",
       "      <td>What was the percentage increase in Amazon's s...</td>\n",
       "      <td>15%</td>\n",
       "      <td>text</td>\n",
       "      <td>NaN</td>\n",
       "      <td>06c52e44-38c4-42b0-90c4-14916435e83e_22</td>\n",
       "      <td>3</td>\n",
       "    </tr>\n",
       "    <tr>\n",
       "      <th>4</th>\n",
       "      <td>amazon_earnings_call</td>\n",
       "      <td>06c52e44-38c4-42b0-90c4-14916435e83e</td>\n",
       "      <td>30</td>\n",
       "      <td>What risk do we face with foreign exchange rat...</td>\n",
       "      <td>foreign exchange rates vary, net sales and oth...</td>\n",
       "      <td>text</td>\n",
       "      <td>NaN</td>\n",
       "      <td>06c52e44-38c4-42b0-90c4-14916435e83e_30</td>\n",
       "      <td>4</td>\n",
       "    </tr>\n",
       "  </tbody>\n",
       "</table>\n",
       "</div>"
      ],
      "text/plain": [
       "                    dir                                   pdf  page  \\\n",
       "0  amazon_earnings_call  004e15aa-5d50-4fb3-9e2f-0ad36639778f     7   \n",
       "1  amazon_earnings_call  004e15aa-5d50-4fb3-9e2f-0ad36639778f     9   \n",
       "2  amazon_earnings_call  004e15aa-5d50-4fb3-9e2f-0ad36639778f    33   \n",
       "3  amazon_earnings_call  06c52e44-38c4-42b0-90c4-14916435e83e    22   \n",
       "4  amazon_earnings_call  06c52e44-38c4-42b0-90c4-14916435e83e    30   \n",
       "\n",
       "                                               query  \\\n",
       "0  How many shares of Rivian’s Class A stock are ...   \n",
       "1                                What is fair value?   \n",
       "2  What are the the key business and industry cha...   \n",
       "3  What was the percentage increase in Amazon's s...   \n",
       "4  What risk do we face with foreign exchange rat...   \n",
       "\n",
       "                                              answer modality xywh  \\\n",
       "0                                        158 million     text  NaN   \n",
       "1  the price that would be received to sell an as...     text  NaN   \n",
       "2  we have many competitors across geographies, i...     text  NaN   \n",
       "3                                                15%     text  NaN   \n",
       "4  foreign exchange rates vary, net sales and oth...     text  NaN   \n",
       "\n",
       "                                  pdf_page  query_id  \n",
       "0   004e15aa-5d50-4fb3-9e2f-0ad36639778f_7         0  \n",
       "1   004e15aa-5d50-4fb3-9e2f-0ad36639778f_9         1  \n",
       "2  004e15aa-5d50-4fb3-9e2f-0ad36639778f_33         2  \n",
       "3  06c52e44-38c4-42b0-90c4-14916435e83e_22         3  \n",
       "4  06c52e44-38c4-42b0-90c4-14916435e83e_30         4  "
      ]
     },
     "execution_count": 1,
     "metadata": {},
     "output_type": "execute_result"
    }
   ],
   "source": [
    "import pandas as pd\n",
    "\n",
    "df_query = pd.read_csv('../data/earnings_consulting_multimodal.csv')\n",
    "df_query['pdf_page'] = df_query.apply(lambda x:f\"{x.pdf}_{x.page}\", axis=1)\n",
    "df_query['query_id'] = range(len(df_query))\n",
    "df_query.head()"
   ]
  },
  {
   "cell_type": "code",
   "execution_count": 2,
   "id": "e1a9be5f-59f4-41c3-88b9-6d76418ec8d3",
   "metadata": {},
   "outputs": [
    {
     "data": {
      "text/plain": [
       "modality\n",
       "text           242\n",
       "table          157\n",
       "chart          129\n",
       "infographic    100\n",
       "Name: count, dtype: int64"
      ]
     },
     "execution_count": 2,
     "metadata": {},
     "output_type": "execute_result"
    }
   ],
   "source": [
    "df_query.modality.value_counts()"
   ]
  },
  {
   "cell_type": "code",
   "execution_count": 3,
   "id": "b3b99363-1a0f-42ca-9a66-a03a0528e768",
   "metadata": {},
   "outputs": [
    {
     "name": "stderr",
     "output_type": "stream",
     "text": [
      "/raid/cjarrett/miniconda3/envs/nv-ingest-dev-4/lib/python3.10/site-packages/tqdm/auto.py:21: TqdmWarning: IProgress not found. Please update jupyter and ipywidgets. See https://ipywidgets.readthedocs.io/en/stable/user_install.html\n",
      "  from .autonotebook import tqdm as notebook_tqdm\n",
      "[nltk_data] Downloading package punkt_tab to\n",
      "[nltk_data]     /raid/cjarrett/miniconda3/envs/nv-ingest-\n",
      "[nltk_data]     dev-4/lib/python3.10/site-\n",
      "[nltk_data]     packages/llama_index/core/_static/nltk_cache...\n",
      "[nltk_data]   Package punkt_tab is already up-to-date!\n"
     ]
    },
    {
     "name": "stdout",
     "output_type": "stream",
     "text": [
      "  - Recall @1: 0.387\n",
      "  - Recall @5: 0.629\n",
      "  - Recall @10: 0.734\n"
     ]
    }
   ],
   "source": [
    "from recall_utils import get_recall_scores\n",
    "\n",
    "results = get_recall_scores(df_query, \"earnings\", sparse)"
   ]
  },
  {
   "cell_type": "code",
   "execution_count": 4,
   "id": "f5fdb2d4-d538-4f17-84b5-a560c1754b89",
   "metadata": {},
   "outputs": [
    {
     "data": {
      "text/html": [
       "<div>\n",
       "<style scoped>\n",
       "    .dataframe tbody tr th:only-of-type {\n",
       "        vertical-align: middle;\n",
       "    }\n",
       "\n",
       "    .dataframe tbody tr th {\n",
       "        vertical-align: top;\n",
       "    }\n",
       "\n",
       "    .dataframe thead th {\n",
       "        text-align: right;\n",
       "    }\n",
       "</style>\n",
       "<table border=\"1\" class=\"dataframe\">\n",
       "  <thead>\n",
       "    <tr style=\"text-align: right;\">\n",
       "      <th></th>\n",
       "      <th>query_id</th>\n",
       "      <th>query_text</th>\n",
       "      <th>expected_pdf_page</th>\n",
       "      <th>expected_pdf_text</th>\n",
       "      <th>retrieved_pdf_pages</th>\n",
       "      <th>retrieved_pdf_texts</th>\n",
       "    </tr>\n",
       "  </thead>\n",
       "  <tbody>\n",
       "    <tr>\n",
       "      <th>0</th>\n",
       "      <td>0</td>\n",
       "      <td>How many shares of Rivian’s Class A stock are ...</td>\n",
       "      <td>004e15aa-5d50-4fb3-9e2f-0ad36639778f_7</td>\n",
       "      <td>158 million</td>\n",
       "      <td>[c7c14359-36fa-40c3-b3ca-5bf7f3fa0b96_45, d2fd...</td>\n",
       "      <td>[Table of Contents\\r\\nIncluded in other income...</td>\n",
       "    </tr>\n",
       "    <tr>\n",
       "      <th>1</th>\n",
       "      <td>1</td>\n",
       "      <td>What is fair value?</td>\n",
       "      <td>004e15aa-5d50-4fb3-9e2f-0ad36639778f_9</td>\n",
       "      <td>the price that would be received to sell an as...</td>\n",
       "      <td>[_10-Q-Q1-2021-As-Filed_13, 2022-alphabet-annu...</td>\n",
       "      <td>[Fair Value Hedges\\r\\nFair value hedge gains a...</td>\n",
       "    </tr>\n",
       "    <tr>\n",
       "      <th>2</th>\n",
       "      <td>2</td>\n",
       "      <td>What are the the key business and industry cha...</td>\n",
       "      <td>004e15aa-5d50-4fb3-9e2f-0ad36639778f_33</td>\n",
       "      <td>we have many competitors across geographies, i...</td>\n",
       "      <td>[64aef25f-17ea-4c46-985a-814cb89f6182_41, 004e...</td>\n",
       "      <td>[Table of Contents\\r\\n• fluctuations in the st...</td>\n",
       "    </tr>\n",
       "    <tr>\n",
       "      <th>3</th>\n",
       "      <td>3</td>\n",
       "      <td>What was the percentage increase in Amazon's s...</td>\n",
       "      <td>06c52e44-38c4-42b0-90c4-14916435e83e_22</td>\n",
       "      <td>15%</td>\n",
       "      <td>[Q3-2021-Earnings-Release_0, Q3-2022-Amazon-Ea...</td>\n",
       "      <td>[AMAZON.COM ANNOUNCES THIRD QUARTER RESULTS\\r\\...</td>\n",
       "    </tr>\n",
       "    <tr>\n",
       "      <th>4</th>\n",
       "      <td>4</td>\n",
       "      <td>What risk do we face with foreign exchange rat...</td>\n",
       "      <td>06c52e44-38c4-42b0-90c4-14916435e83e_30</td>\n",
       "      <td>foreign exchange rates vary, net sales and oth...</td>\n",
       "      <td>[20201030-alphabet-10q_51, 56f9e4fc-22e2-46e8-...</td>\n",
       "      <td>[Foreign Currency Exchange Risk\\r\\nWe transact...</td>\n",
       "    </tr>\n",
       "    <tr>\n",
       "      <th>...</th>\n",
       "      <td>...</td>\n",
       "      <td>...</td>\n",
       "      <td>...</td>\n",
       "      <td>...</td>\n",
       "      <td>...</td>\n",
       "      <td>...</td>\n",
       "    </tr>\n",
       "    <tr>\n",
       "      <th>623</th>\n",
       "      <td>623</td>\n",
       "      <td>Per Nvidia's Oct 2023 investor presentation, w...</td>\n",
       "      <td>ndr_presentation_oct_2023_final_13</td>\n",
       "      <td>$2.5B</td>\n",
       "      <td>[NVDA-Company-Overview-2024-02-21_14, nvda-f3q...</td>\n",
       "      <td>[The High ROI of High Compute Performance\\r\\nR...</td>\n",
       "    </tr>\n",
       "    <tr>\n",
       "      <th>624</th>\n",
       "      <td>624</td>\n",
       "      <td>How did NVIDIA's diluted EPS change in Q1 FY24...</td>\n",
       "      <td>nvda-f1q24-investor-presentation-final_5</td>\n",
       "      <td>28%</td>\n",
       "      <td>[nvda-f3q24-investor-presentation-final_5, nvd...</td>\n",
       "      <td>[Q3 FY24 Financial Summary   Q3 FY23 - Q4 FY23...</td>\n",
       "    </tr>\n",
       "    <tr>\n",
       "      <th>625</th>\n",
       "      <td>625</td>\n",
       "      <td>What chips has NVIDIA produced?</td>\n",
       "      <td>nvda-f2q24-investor-presentation-final_31</td>\n",
       "      <td>GPU CPU DPU</td>\n",
       "      <td>[NVDA-F2Q23-Investor-Presentation-FINAL-1_23, ...</td>\n",
       "      <td>[NVIDIA At a Glance\\r\\nAccelerated computing p...</td>\n",
       "    </tr>\n",
       "    <tr>\n",
       "      <th>626</th>\n",
       "      <td>626</td>\n",
       "      <td>What was NVIDIA's year-over-year percentage in...</td>\n",
       "      <td>nvda-f3q24-investor-presentation-final_9</td>\n",
       "      <td>4%</td>\n",
       "      <td>[nvda-f3q24-investor-presentation-final_9, nvd...</td>\n",
       "      <td>[$251\\r\\n$294 $296\\r\\n$253\\r\\n$261\\r\\nQ3 FY23 ...</td>\n",
       "    </tr>\n",
       "    <tr>\n",
       "      <th>627</th>\n",
       "      <td>627</td>\n",
       "      <td>How many hours per week do millennials spend p...</td>\n",
       "      <td>nvda-f4q23-investor-presentation-final_43</td>\n",
       "      <td>6:50</td>\n",
       "      <td>[NVIDIA-Investor-Presentation-Oct-2022-1_21, p...</td>\n",
       "      <td>[New generation, more gamers   Boomers - GenX ...</td>\n",
       "    </tr>\n",
       "  </tbody>\n",
       "</table>\n",
       "<p>628 rows × 6 columns</p>\n",
       "</div>"
      ],
      "text/plain": [
       "     query_id                                         query_text  \\\n",
       "0           0  How many shares of Rivian’s Class A stock are ...   \n",
       "1           1                                What is fair value?   \n",
       "2           2  What are the the key business and industry cha...   \n",
       "3           3  What was the percentage increase in Amazon's s...   \n",
       "4           4  What risk do we face with foreign exchange rat...   \n",
       "..        ...                                                ...   \n",
       "623       623  Per Nvidia's Oct 2023 investor presentation, w...   \n",
       "624       624  How did NVIDIA's diluted EPS change in Q1 FY24...   \n",
       "625       625                   What chips has NVIDIA produced?    \n",
       "626       626  What was NVIDIA's year-over-year percentage in...   \n",
       "627       627  How many hours per week do millennials spend p...   \n",
       "\n",
       "                             expected_pdf_page  \\\n",
       "0       004e15aa-5d50-4fb3-9e2f-0ad36639778f_7   \n",
       "1       004e15aa-5d50-4fb3-9e2f-0ad36639778f_9   \n",
       "2      004e15aa-5d50-4fb3-9e2f-0ad36639778f_33   \n",
       "3      06c52e44-38c4-42b0-90c4-14916435e83e_22   \n",
       "4      06c52e44-38c4-42b0-90c4-14916435e83e_30   \n",
       "..                                         ...   \n",
       "623         ndr_presentation_oct_2023_final_13   \n",
       "624   nvda-f1q24-investor-presentation-final_5   \n",
       "625  nvda-f2q24-investor-presentation-final_31   \n",
       "626   nvda-f3q24-investor-presentation-final_9   \n",
       "627  nvda-f4q23-investor-presentation-final_43   \n",
       "\n",
       "                                     expected_pdf_text  \\\n",
       "0                                          158 million   \n",
       "1    the price that would be received to sell an as...   \n",
       "2    we have many competitors across geographies, i...   \n",
       "3                                                  15%   \n",
       "4    foreign exchange rates vary, net sales and oth...   \n",
       "..                                                 ...   \n",
       "623                                              $2.5B   \n",
       "624                                                28%   \n",
       "625                                        GPU CPU DPU   \n",
       "626                                                 4%   \n",
       "627                                               6:50   \n",
       "\n",
       "                                   retrieved_pdf_pages  \\\n",
       "0    [c7c14359-36fa-40c3-b3ca-5bf7f3fa0b96_45, d2fd...   \n",
       "1    [_10-Q-Q1-2021-As-Filed_13, 2022-alphabet-annu...   \n",
       "2    [64aef25f-17ea-4c46-985a-814cb89f6182_41, 004e...   \n",
       "3    [Q3-2021-Earnings-Release_0, Q3-2022-Amazon-Ea...   \n",
       "4    [20201030-alphabet-10q_51, 56f9e4fc-22e2-46e8-...   \n",
       "..                                                 ...   \n",
       "623  [NVDA-Company-Overview-2024-02-21_14, nvda-f3q...   \n",
       "624  [nvda-f3q24-investor-presentation-final_5, nvd...   \n",
       "625  [NVDA-F2Q23-Investor-Presentation-FINAL-1_23, ...   \n",
       "626  [nvda-f3q24-investor-presentation-final_9, nvd...   \n",
       "627  [NVIDIA-Investor-Presentation-Oct-2022-1_21, p...   \n",
       "\n",
       "                                   retrieved_pdf_texts  \n",
       "0    [Table of Contents\\r\\nIncluded in other income...  \n",
       "1    [Fair Value Hedges\\r\\nFair value hedge gains a...  \n",
       "2    [Table of Contents\\r\\n• fluctuations in the st...  \n",
       "3    [AMAZON.COM ANNOUNCES THIRD QUARTER RESULTS\\r\\...  \n",
       "4    [Foreign Currency Exchange Risk\\r\\nWe transact...  \n",
       "..                                                 ...  \n",
       "623  [The High ROI of High Compute Performance\\r\\nR...  \n",
       "624  [Q3 FY24 Financial Summary   Q3 FY23 - Q4 FY23...  \n",
       "625  [NVIDIA At a Glance\\r\\nAccelerated computing p...  \n",
       "626  [$251\\r\\n$294 $296\\r\\n$253\\r\\n$261\\r\\nQ3 FY23 ...  \n",
       "627  [New generation, more gamers   Boomers - GenX ...  \n",
       "\n",
       "[628 rows x 6 columns]"
      ]
     },
     "execution_count": 4,
     "metadata": {},
     "output_type": "execute_result"
    }
   ],
   "source": [
    "results"
   ]
  },
  {
   "cell_type": "code",
   "execution_count": 86,
   "id": "1036c436-a677-432f-aae0-e0f60b61c034",
   "metadata": {},
   "outputs": [
    {
     "name": "stdout",
     "output_type": "stream",
     "text": [
      "text\n",
      "  - Recall @1: 0.198\n",
      "  - Recall @5: 0.521\n",
      "  - Recall @10: 0.682\n",
      "table\n",
      "  - Recall @1: 0.248\n",
      "  - Recall @5: 0.465\n",
      "  - Recall @10: 0.573\n",
      "chart\n",
      "  - Recall @1: 0.612\n",
      "  - Recall @5: 0.806\n",
      "  - Recall @10: 0.860\n",
      "infographic\n",
      "  - Recall @1: 0.760\n",
      "  - Recall @5: 0.910\n",
      "  - Recall @10: 0.940\n"
     ]
    }
   ],
   "source": [
    "for modality in df_query.modality.unique():\n",
    "    print(modality)\n",
    "    get_recall_scores(df_query.query(f\"modality=='{modality}'\").reset_index(drop=True), \"earnings\", sparse)"
   ]
  },
  {
   "cell_type": "code",
   "execution_count": null,
   "id": "2a394dcf-7c3a-4cd1-ab65-cd2b2c63f6c3",
   "metadata": {},
   "outputs": [],
   "source": []
  }
 ],
 "metadata": {
  "kernelspec": {
   "display_name": "Python 3 (ipykernel)",
   "language": "python",
   "name": "python3"
  },
  "language_info": {
   "codemirror_mode": {
    "name": "ipython",
    "version": 3
   },
   "file_extension": ".py",
   "mimetype": "text/x-python",
   "name": "python",
   "nbconvert_exporter": "python",
   "pygments_lexer": "ipython3",
   "version": "3.10.16"
  }
 },
 "nbformat": 4,
 "nbformat_minor": 5
}
