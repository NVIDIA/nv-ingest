{
 "cells": [
  {
   "cell_type": "markdown",
   "id": "0c031327-2456-41a2-b0ef-975bf96823c7",
   "metadata": {},
   "source": [
    "## How to add metadata to your documents and filter searches\n",
    "This notebook will walk you through how to upload metadata that provides extra information about the corpus you are ingesting with nv-ingest. It will show the requirements for the metadata file and what file types are supported. Then we will go throught he process of filtering searches, in this case, on the metadata we provided.\n",
    "\n",
    "First step is to provide imports for all the tools we will be using."
   ]
  },
  {
   "cell_type": "code",
   "execution_count": 1,
   "id": "8d32ff2e-ab3c-4118-9d74-ef3c63837003",
   "metadata": {},
   "outputs": [
    {
     "name": "stderr",
     "output_type": "stream",
     "text": [
      "/opt/conda/envs/nv_ingest_runtime/lib/python3.12/site-packages/tqdm/auto.py:21: TqdmWarning: IProgress not found. Please update jupyter and ipywidgets. See https://ipywidgets.readthedocs.io/en/stable/user_install.html\n",
      "  from .autonotebook import tqdm as notebook_tqdm\n"
     ]
    }
   ],
   "source": [
    "from nv_ingest_client.client import Ingestor\n",
    "from nv_ingest_client.util.milvus import nvingest_retrieval\n",
    "import pandas as pd"
   ]
  },
  {
   "cell_type": "markdown",
   "id": "e18ab4bf-6a00-4008-aa10-87741369fad1",
   "metadata": {},
   "source": [
    "Next we will annotate all the necessary variables to ensure our client connects to our pipeline."
   ]
  },
  {
   "cell_type": "code",
   "execution_count": 2,
   "id": "a902bd2d-cf8e-4b68-8a98-a5b535e440d5",
   "metadata": {},
   "outputs": [],
   "source": [
    "model_name=\"nvidia/llama-3.2-nv-embedqa-1b-v2\"\n",
    "hostname=\"localhost\"\n",
    "collection_name = \"nv_ingest_collection\"\n",
    "sparse = True"
   ]
  },
  {
   "cell_type": "markdown",
   "id": "6dde8506-44c7-4536-96c8-4cc1d273ba46",
   "metadata": {},
   "source": [
    "Now, we will begin by creating a dataframe with dummy metadata in it. The metadata can be ingested as either a dataframe or a file. Supported file types (json, csv, parquet). If you supply a file it will be converted into a pandas dataframe for you. In this example, after we create the dataframe, we write it to a file and we will use that file as part of the ingestion."
   ]
  },
  {
   "cell_type": "code",
   "execution_count": 3,
   "id": "9f6b451d-40d8-46d8-88c5-aac7facd278d",
   "metadata": {},
   "outputs": [],
   "source": [
    "meta_df = pd.DataFrame(\n",
    "    {\n",
    "        \"source\": [\"/raid/nv-ingest/data/woods_frost.pdf\", \"/raid/nv-ingest/data/multimodal_test.pdf\"],\n",
    "        \"meta_a\": [\"alpha\", \"bravo\"],\n",
    "        \"meta_b\": [5, 10],\n",
    "        \"meta_c\": [True, False],\n",
    "        \"meta_d\": [10.0, 20.0]\n",
    "    }\n",
    ")\n",
    "file_path = \"./meta_df.csv\"\n",
    "meta_df.to_csv(file_path)"
   ]
  },
  {
   "cell_type": "markdown",
   "id": "157d8909-542b-47fd-b01c-6689eefdaf11",
   "metadata": {},
   "source": [
    "If you are supplying metadata during ingestion you are required to supply three keyword arguments.\n",
    "\n",
    "- meta_dataframe - This is either a string representing the file (to be loaded via pandas) or the already loaded dataframe.\n",
    "- meta_source_field - This is a string, that represents the field that will be used to connect to the document during ingestion.\n",
    "- meta_fields - This is a list of strings, representing the columns of data from the dataframe that will be used as metadata for the corresponding documents.\n",
    "\n",
    "All three of the parameters are required to enable metadata updates to the documents during ingestion.\n"
   ]
  },
  {
   "cell_type": "code",
   "execution_count": 4,
   "id": "d6f9e2a4-7e50-491d-a0c6-21a4d4f27db9",
   "metadata": {},
   "outputs": [
    {
     "name": "stderr",
     "output_type": "stream",
     "text": [
      "'text' parameter is deprecated and will be ignored. Future versions will remove this argument.\n",
      "'tables' parameter is deprecated and will be ignored. Future versions will remove this argument.\n"
     ]
    }
   ],
   "source": [
    "ingestor = ( \n",
    "    Ingestor(message_client_hostname=hostname)\n",
    "    .files([\"/raid/nv-ingest/data/woods_frost.pdf\", \"/raid/nv-ingest/data/multimodal_test.pdf\"])\n",
    "    .extract(\n",
    "        extract_text=True,\n",
    "        extract_tables=True,\n",
    "        extract_charts=True,\n",
    "        extract_images=True,\n",
    "        text_depth=\"page\"\n",
    "    ).embed(text=True, tables=True\n",
    "    ).vdb_upload(collection_name=collection_name, milvus_uri=f\"http://{hostname}:19530\", sparse=sparse, minio_endpoint=f\"{hostname}:9000\", dense_dim=2048\n",
    "                 ,meta_dataframe=file_path, meta_source_field=\"source\", meta_fields=[\"meta_a\", \"meta_b\", \"meta_c\", \"meta_d\"]\n",
    "                )\n",
    ")\n",
    "results = ingestor.ingest_async().result()"
   ]
  },
  {
   "cell_type": "markdown",
   "id": "b722d073-5a87-4109-acc7-9c1d4399b625",
   "metadata": {},
   "source": [
    "Once the ingestion is complete, the documents will have uploaded to the vector database with the corresponding metadata as part of the `content_metadata` field. This is a json field that can be used as part of a filtered search. To use this, you can select a column from the meta_fields previously described and filter based on a value for that sub-field. That is what is done in this example below. There are more extensive filters that can be applied, please refer to https://milvus.io/docs/use-json-fields.md#Query-with-filter-expressions for more information."
   ]
  },
  {
   "cell_type": "code",
   "execution_count": 5,
   "id": "1396906e-321a-4ab6-af83-9e651a51cb7f",
   "metadata": {},
   "outputs": [
    {
     "name": "stderr",
     "output_type": "stream",
     "text": [
      "[nltk_data] Downloading package punkt_tab to\n",
      "[nltk_data]     /opt/conda/envs/nv_ingest_runtime/lib/python3.12/site-\n",
      "[nltk_data]     packages/llama_index/core/_static/nltk_cache...\n",
      "[nltk_data]   Package punkt_tab is already up-to-date!\n"
     ]
    },
    {
     "name": "stdout",
     "output_type": "stream",
     "text": [
      "[data: [[{'id': 459164003456523110, 'distance': 0.016393441706895828, 'entity': {'text': 'Stopping by Woods on a Snowy Evening, By Robert Frost\\r\\nFigure 1: Snowy Woods\\r\\nWhose woods these are I think I know. His house is in the village though; He will not see me \\r\\nstopping here; To watch his woods fill up with snow. \\r\\nMy little horse must think it queer; To stop without a farmhouse near; Between the woods and \\r\\nfrozen lake; The darkest evening of the year. \\r\\nHe gives his harness bells a shake; To ask if there is some mistake. The only other sound’s the \\r\\nsweep; Of easy wind and downy flake. \\r\\nThe woods are lovely, dark and deep, But I have promises to keep, And miles to go before I \\r\\nsleep, And miles to go before I sleep.\\r\\nFrost’s Collections\\r\\nFigure 2: Robert Frost', 'source': {'source_name': '/raid/nv-ingest/data/woods_frost.pdf', 'source_id': '/raid/nv-ingest/data/woods_frost.pdf', 'source_location': '', 'source_type': 'PDF', 'collection_id': '', 'date_created': '2024-04-30T18:02:30', 'last_modified': '2024-04-30T18:02:32', 'summary': '', 'partition_id': -1, 'access_level': -1}, 'content_metadata': {'content_url': '', 'content_metadata': {'type': 'text', 'description': 'Unstructured text from PDF document.', 'page_number': 0, 'hierarchy': {'page_count': 2, 'page': 0, 'block': -1, 'line': -1, 'span': -1, 'nearby_objects': {'text': {'content': [], 'bbox': [], 'type': []}, 'images': {'content': [], 'bbox': [], 'type': []}, 'structured': {'content': [], 'bbox': [], 'type': []}}}, 'subtype': '', 'start_time': -1, 'end_time': -1, 'location': None, 'max_dimensions': None}, 'audio_metadata': None, 'text_metadata': {'text_type': 'page', 'summary': '', 'keywords': '', 'language': 'en', 'text_location': [-1, -1, -1, -1], 'text_location_max_dimensions': [-1, -1]}, 'image_metadata': None, 'table_metadata': None, 'chart_metadata': None, 'error_metadata': None, 'info_message_metadata': None, 'debug_metadata': None, 'raise_on_failure': False, 'meta_a': 'alpha', 'meta_b': 5, 'meta_c': True, 'meta_d': 10.0}}}, {'id': 459164003456523112, 'distance': 0.016129031777381897, 'entity': {'text': \"# Collection Year 1 A Boy's Will 1913 2 North of Boston 1914 3 Mountain Interval 1916 4 New Hampshire 1923 5 West Running Brook 1928 6 A Further Range 1937 7 A Witness Tree 1942 8 In the Clearing 1962 9 Steeple Bush 1947\\r\\n10 An Afterwordunknown\", 'source': {'source_name': '/raid/nv-ingest/data/woods_frost.pdf', 'source_id': '/raid/nv-ingest/data/woods_frost.pdf', 'source_location': '', 'source_type': 'PDF', 'collection_id': '', 'date_created': '2024-04-30T18:02:30', 'last_modified': '2024-04-30T18:02:32', 'summary': '', 'partition_id': -1, 'access_level': -1}, 'content_metadata': {'content_url': '', 'content_metadata': {'type': 'text', 'description': 'Unstructured text from PDF document.', 'page_number': 1, 'hierarchy': {'page_count': 2, 'page': 1, 'block': -1, 'line': -1, 'span': -1, 'nearby_objects': {'text': {'content': [], 'bbox': [], 'type': []}, 'images': {'content': [], 'bbox': [], 'type': []}, 'structured': {'content': [], 'bbox': [], 'type': []}}}, 'subtype': '', 'start_time': -1, 'end_time': -1, 'location': None, 'max_dimensions': None}, 'audio_metadata': None, 'text_metadata': {'text_type': 'page', 'summary': '', 'keywords': '', 'language': 'en', 'text_location': [-1, -1, -1, -1], 'text_location_max_dimensions': [-1, -1]}, 'image_metadata': None, 'table_metadata': None, 'chart_metadata': None, 'error_metadata': None, 'info_message_metadata': None, 'debug_metadata': None, 'raise_on_failure': False, 'meta_a': 'alpha', 'meta_b': 5, 'meta_c': True, 'meta_d': 10.0}}}, {'id': 459164003456523114, 'distance': 0.01587301678955555, 'entity': {'text': \"| # | Collection | Year |\\n| 1 | A Boy's Will | 1913 |\\n| 2 | North of Boston | 1914 |\\n| 3 | Mountain Interval | 1916 |\\n| 4 | New Hampshire | 1923 |\\n| 5 | West Running Brook | 1928 |\\n| 6 | A Further Range | 1937 |\\n| 7 | A Witness Tree | 1942 |\\n| 8 | In the Clearing | 1962 |\\n| 9 | Steeple Bush | 1947 |\\n| 10 | An Afterword | unknown |\\n\", 'source': {'source_name': '/raid/nv-ingest/data/woods_frost.pdf', 'source_id': '/raid/nv-ingest/data/woods_frost.pdf', 'source_location': '', 'source_type': 'PDF', 'collection_id': '', 'date_created': '2024-04-30T18:02:30', 'last_modified': '2024-04-30T18:02:32', 'summary': '', 'partition_id': -1, 'access_level': -1}, 'content_metadata': {'content_url': '', 'content_metadata': {'type': 'structured', 'description': 'Structured table extracted from PDF document.', 'page_number': 1, 'hierarchy': {'page_count': 2, 'page': 1, 'block': -1, 'line': -1, 'span': -1, 'nearby_objects': {'text': {'content': [], 'bbox': [], 'type': []}, 'images': {'content': [], 'bbox': [], 'type': []}, 'structured': {'content': [], 'bbox': [], 'type': []}}}, 'subtype': 'table', 'start_time': -1, 'end_time': -1, 'location': [89, 29, 697, 379], 'max_dimensions': [792, 1024]}, 'audio_metadata': None, 'text_metadata': None, 'image_metadata': None, 'table_metadata': {'caption': '', 'table_format': 'image', 'table_content': \"| # | Collection | Year |\\n| 1 | A Boy's Will | 1913 |\\n| 2 | North of Boston | 1914 |\\n| 3 | Mountain Interval | 1916 |\\n| 4 | New Hampshire | 1923 |\\n| 5 | West Running Brook | 1928 |\\n| 6 | A Further Range | 1937 |\\n| 7 | A Witness Tree | 1942 |\\n| 8 | In the Clearing | 1962 |\\n| 9 | Steeple Bush | 1947 |\\n| 10 | An Afterword | unknown |\\n\", 'table_content_format': 'pseudo_markdown', 'table_location': [89, 29, 697, 379], 'table_location_max_dimensions': [792, 1024], 'uploaded_image_uri': ''}, 'chart_metadata': None, 'error_metadata': None, 'info_message_metadata': None, 'debug_metadata': None, 'raise_on_failure': False, 'meta_a': 'alpha', 'meta_b': 5, 'meta_c': True, 'meta_d': 10.0}}}]]]\n"
     ]
    }
   ],
   "source": [
    "queries = [\"this is expensive\"]\n",
    "top_k = 5\n",
    "q_results = []\n",
    "for que in queries:\n",
    "    q_results.append(nvingest_retrieval([que], collection_name=collection_name, host=f\"http://{hostname}:19530\", embedding_endpoint=f\"http://{hostname}:8012/v1\",  hybrid=sparse, top_k=top_k, model_name=model_name, gpu_search=False\n",
    "                                            , _filter='content_metadata[\"meta_a\"] == \"alpha\"'\n",
    "                                           ))\n",
    "\n",
    "print(f\"{q_results}\")"
   ]
  },
  {
   "cell_type": "markdown",
   "id": "1e12d488-5396-49cd-be12-9e6f71ef68a6",
   "metadata": {},
   "source": [
    "The second filter expression leverages the `meta_b` field and grabs all available chunks because the filter includes any values greater than or equal to 5. This will retrieve all chunks from both the `woods_frost.pdf` and `multimodal_test.pdf`."
   ]
  },
  {
   "cell_type": "code",
   "execution_count": 6,
   "id": "97968c46-251c-40de-b13b-161f60dc10cd",
   "metadata": {},
   "outputs": [
    {
     "name": "stdout",
     "output_type": "stream",
     "text": [
      "[data: [[{'id': 459164003456523124, 'distance': 0.016393441706895828, 'entity': {'text': 'This chart shows some gadgets, and some very fictitious costs. Gadgets and their cost   Hammer - Powerdrill - Bluetooth speaker - Minifridge - Premium desk fan Dollars $- - $20.00 - $40.00 - $60.00 - $80.00 - $100.00 - $120.00 - $140.00 - $160.00 Cost    Chart 1', 'source': {'source_name': '/raid/nv-ingest/data/multimodal_test.pdf', 'source_id': '/raid/nv-ingest/data/multimodal_test.pdf', 'source_location': '', 'source_type': 'PDF', 'collection_id': '', 'date_created': '2025-07-08T19:00:47.222326', 'last_modified': '2025-07-08T19:00:47.222219', 'summary': '', 'partition_id': -1, 'access_level': -1}, 'content_metadata': {'content_url': '', 'content_metadata': {'type': 'structured', 'description': 'Structured chart extracted from PDF document.', 'page_number': 0, 'hierarchy': {'page_count': 3, 'page': 0, 'block': -1, 'line': -1, 'span': -1, 'nearby_objects': {'text': {'content': [], 'bbox': [], 'type': []}, 'images': {'content': [], 'bbox': [], 'type': []}, 'structured': {'content': [], 'bbox': [], 'type': []}}}, 'subtype': 'chart', 'start_time': -1, 'end_time': -1, 'location': [73, 474, 720, 831], 'max_dimensions': [792, 1024]}, 'audio_metadata': None, 'text_metadata': None, 'image_metadata': None, 'table_metadata': {'caption': '', 'table_format': 'image', 'table_content': 'This chart shows some gadgets, and some very fictitious costs. Gadgets and their cost   Hammer - Powerdrill - Bluetooth speaker - Minifridge - Premium desk fan Dollars $- - $20.00 - $40.00 - $60.00 - $80.00 - $100.00 - $120.00 - $140.00 - $160.00 Cost    Chart 1', 'table_content_format': '', 'table_location': [73, 474, 720, 831], 'table_location_max_dimensions': [792, 1024], 'uploaded_image_uri': ''}, 'chart_metadata': None, 'error_metadata': None, 'info_message_metadata': None, 'debug_metadata': None, 'raise_on_failure': False, 'meta_a': 'bravo', 'meta_b': 10, 'meta_c': False, 'meta_d': 20.0}}}, {'id': 459164003456523120, 'distance': 0.016129031777381897, 'entity': {'text': 'Chart 2\\r\\nThis chart shows some average frequency ranges for speaker drivers.\\r\\nConclusion\\r\\nThis is the conclusion of the document. It has some more placeholder text, but the most \\r\\nimportant thing is that this is the conclusion. As we end this document, we should have \\r\\nbeen able to extract 2 tables, 2 charts, and some text including 3 bullet points.', 'source': {'source_name': '/raid/nv-ingest/data/multimodal_test.pdf', 'source_id': '/raid/nv-ingest/data/multimodal_test.pdf', 'source_location': '', 'source_type': 'PDF', 'collection_id': '', 'date_created': '2025-07-08T19:00:47.222326', 'last_modified': '2025-07-08T19:00:47.222219', 'summary': '', 'partition_id': -1, 'access_level': -1}, 'content_metadata': {'content_url': '', 'content_metadata': {'type': 'text', 'description': 'Unstructured text from PDF document.', 'page_number': 2, 'hierarchy': {'page_count': 3, 'page': 2, 'block': -1, 'line': -1, 'span': -1, 'nearby_objects': {'text': {'content': [], 'bbox': [], 'type': []}, 'images': {'content': [], 'bbox': [], 'type': []}, 'structured': {'content': [], 'bbox': [], 'type': []}}}, 'subtype': '', 'start_time': -1, 'end_time': -1, 'location': None, 'max_dimensions': None}, 'audio_metadata': None, 'text_metadata': {'text_type': 'page', 'summary': '', 'keywords': '', 'language': 'en', 'text_location': [-1, -1, -1, -1], 'text_location_max_dimensions': [-1, -1]}, 'image_metadata': None, 'table_metadata': None, 'chart_metadata': None, 'error_metadata': None, 'info_message_metadata': None, 'debug_metadata': None, 'raise_on_failure': False, 'meta_a': 'bravo', 'meta_b': 10, 'meta_c': False, 'meta_d': 20.0}}}, {'id': 459164003456523128, 'distance': 0.01587301678955555, 'entity': {'text': 'Below,is a high-quality picture of some shapes          Picture', 'source': {'source_name': '/raid/nv-ingest/data/multimodal_test.pdf', 'source_id': '/raid/nv-ingest/data/multimodal_test.pdf', 'source_location': '', 'source_type': 'PDF', 'collection_id': '', 'date_created': '2025-07-08T19:00:47.222326', 'last_modified': '2025-07-08T19:00:47.222219', 'summary': '', 'partition_id': -1, 'access_level': -1}, 'content_metadata': {'content_url': '', 'content_metadata': {'type': 'structured', 'description': 'Structured chart extracted from PDF document.', 'page_number': 1, 'hierarchy': {'page_count': 3, 'page': 1, 'block': -1, 'line': -1, 'span': -1, 'nearby_objects': {'text': {'content': [], 'bbox': [], 'type': []}, 'images': {'content': [], 'bbox': [], 'type': []}, 'structured': {'content': [], 'bbox': [], 'type': []}}}, 'subtype': 'chart', 'start_time': -1, 'end_time': -1, 'location': [74, 614, 728, 920], 'max_dimensions': [792, 1024]}, 'audio_metadata': None, 'text_metadata': None, 'image_metadata': None, 'table_metadata': {'caption': '', 'table_format': 'image', 'table_content': 'Below,is a high-quality picture of some shapes          Picture', 'table_content_format': '', 'table_location': [74, 614, 728, 920], 'table_location_max_dimensions': [792, 1024], 'uploaded_image_uri': ''}, 'chart_metadata': None, 'error_metadata': None, 'info_message_metadata': None, 'debug_metadata': None, 'raise_on_failure': False, 'meta_a': 'bravo', 'meta_b': 10, 'meta_c': False, 'meta_d': 20.0}}}, {'id': 459164003456523118, 'distance': 0.015625, 'entity': {'text': 'Section One\\r\\nThis is the first section of the document. It has some more placeholder text to show how \\r\\nthe document looks like. The text is not meant to be meaningful or informative, but rather to \\r\\ndemonstrate the layout and formatting of the document.\\r\\n• This is the first bullet point\\r\\n• This is the second bullet point\\r\\n• This is the third bullet point\\r\\nSection Two\\r\\nThis is the second section of the document. It is more of the same as we’ve seen in the rest \\r\\nof the document. The content is meaningless, but the intent is to create a very simple \\r\\nsmoke test to ensure extraction is working as intended. This will be used in CI as time goes \\r\\non to ensure that changes we make to the library do not negatively impact our accuracy.\\r\\nTable 2\\r\\nThis table shows some popular colors that cars might come in.\\r\\nCar Color1 Color2 Color3\\r\\nCoupe White Silver Flat Gray\\r\\nSedan White Metallic Gray Matte Gray\\r\\nMinivan Gray Beige Black\\r\\nTruck Dark Gray Titanium Gray Charcoal\\r\\nConvertible Light Gray Graphite Slate Gray\\r\\nPicture\\r\\nBelow, is a high-quality picture of some shapes.', 'source': {'source_name': '/raid/nv-ingest/data/multimodal_test.pdf', 'source_id': '/raid/nv-ingest/data/multimodal_test.pdf', 'source_location': '', 'source_type': 'PDF', 'collection_id': '', 'date_created': '2025-07-08T19:00:47.222326', 'last_modified': '2025-07-08T19:00:47.222219', 'summary': '', 'partition_id': -1, 'access_level': -1}, 'content_metadata': {'content_url': '', 'content_metadata': {'type': 'text', 'description': 'Unstructured text from PDF document.', 'page_number': 1, 'hierarchy': {'page_count': 3, 'page': 1, 'block': -1, 'line': -1, 'span': -1, 'nearby_objects': {'text': {'content': [], 'bbox': [], 'type': []}, 'images': {'content': [], 'bbox': [], 'type': []}, 'structured': {'content': [], 'bbox': [], 'type': []}}}, 'subtype': '', 'start_time': -1, 'end_time': -1, 'location': None, 'max_dimensions': None}, 'audio_metadata': None, 'text_metadata': {'text_type': 'page', 'summary': '', 'keywords': '', 'language': 'en', 'text_location': [-1, -1, -1, -1], 'text_location_max_dimensions': [-1, -1]}, 'image_metadata': None, 'table_metadata': None, 'chart_metadata': None, 'error_metadata': None, 'info_message_metadata': None, 'debug_metadata': None, 'raise_on_failure': False, 'meta_a': 'bravo', 'meta_b': 10, 'meta_c': False, 'meta_d': 20.0}}}, {'id': 459164003456523130, 'distance': 0.015384615398943424, 'entity': {'text': 'This chart shows some average frequency ranges for speaker drivers. Frequency Ranges ofSpeaker Drivers   Tweeter - Midrange - Midwoofer - Subwoofer Hertz (log scale) 1 - 10 - 100 - 1000 - 10000 - 100000 FrequencyRange Start (Hz) - Frequency Range End (Hz) - Midwoofer    Chart2', 'source': {'source_name': '/raid/nv-ingest/data/multimodal_test.pdf', 'source_id': '/raid/nv-ingest/data/multimodal_test.pdf', 'source_location': '', 'source_type': 'PDF', 'collection_id': '', 'date_created': '2025-07-08T19:00:47.222326', 'last_modified': '2025-07-08T19:00:47.222219', 'summary': '', 'partition_id': -1, 'access_level': -1}, 'content_metadata': {'content_url': '', 'content_metadata': {'type': 'structured', 'description': 'Structured chart extracted from PDF document.', 'page_number': 2, 'hierarchy': {'page_count': 3, 'page': 2, 'block': -1, 'line': -1, 'span': -1, 'nearby_objects': {'text': {'content': [], 'bbox': [], 'type': []}, 'images': {'content': [], 'bbox': [], 'type': []}, 'structured': {'content': [], 'bbox': [], 'type': []}}}, 'subtype': 'chart', 'start_time': -1, 'end_time': -1, 'location': [61, 77, 728, 468], 'max_dimensions': [792, 1024]}, 'audio_metadata': None, 'text_metadata': None, 'image_metadata': None, 'table_metadata': {'caption': '', 'table_format': 'image', 'table_content': 'This chart shows some average frequency ranges for speaker drivers. Frequency Ranges ofSpeaker Drivers   Tweeter - Midrange - Midwoofer - Subwoofer Hertz (log scale) 1 - 10 - 100 - 1000 - 10000 - 100000 FrequencyRange Start (Hz) - Frequency Range End (Hz) - Midwoofer    Chart2', 'table_content_format': '', 'table_location': [61, 77, 728, 468], 'table_location_max_dimensions': [792, 1024], 'uploaded_image_uri': ''}, 'chart_metadata': None, 'error_metadata': None, 'info_message_metadata': None, 'debug_metadata': None, 'raise_on_failure': False, 'meta_a': 'bravo', 'meta_b': 10, 'meta_c': False, 'meta_d': 20.0}}}]]]\n"
     ]
    }
   ],
   "source": [
    "queries = [\"this is expensive\"]\n",
    "top_k = 5\n",
    "q_results = []\n",
    "for que in queries:\n",
    "    q_results.append(nvingest_retrieval([que], collection_name=collection_name, host=f\"http://{hostname}:19530\", embedding_endpoint=f\"http://{hostname}:8012/v1\",  hybrid=sparse, top_k=top_k, model_name=model_name, gpu_search=False\n",
    "                                            , _filter='content_metadata[\"meta_b\"] >= 5'\n",
    "                                           ))\n",
    "\n",
    "print(f\"{q_results}\")"
   ]
  },
  {
   "cell_type": "markdown",
   "id": "61bd5779-1509-4b46-a2c1-7f29ea6fbd27",
   "metadata": {},
   "source": [
    "In the next retrieval run, we will create a filter expressions for the `meta_c` filter. We will grab all available chunks that are `True` for the `meta_c` field. The results retrieved will be from the `woods_frost.pdf`."
   ]
  },
  {
   "cell_type": "code",
   "execution_count": 7,
   "id": "a469aeaa-e687-423a-b2d9-4bc32f7e22d2",
   "metadata": {},
   "outputs": [
    {
     "name": "stdout",
     "output_type": "stream",
     "text": [
      "[data: [[{'id': 459164003456523110, 'distance': 0.016393441706895828, 'entity': {'source': {'source_name': '/raid/nv-ingest/data/woods_frost.pdf', 'source_id': '/raid/nv-ingest/data/woods_frost.pdf', 'source_location': '', 'source_type': 'PDF', 'collection_id': '', 'date_created': '2024-04-30T18:02:30', 'last_modified': '2024-04-30T18:02:32', 'summary': '', 'partition_id': -1, 'access_level': -1}, 'content_metadata': {'content_url': '', 'content_metadata': {'type': 'text', 'description': 'Unstructured text from PDF document.', 'page_number': 0, 'hierarchy': {'page_count': 2, 'page': 0, 'block': -1, 'line': -1, 'span': -1, 'nearby_objects': {'text': {'content': [], 'bbox': [], 'type': []}, 'images': {'content': [], 'bbox': [], 'type': []}, 'structured': {'content': [], 'bbox': [], 'type': []}}}, 'subtype': '', 'start_time': -1, 'end_time': -1, 'location': None, 'max_dimensions': None}, 'audio_metadata': None, 'text_metadata': {'text_type': 'page', 'summary': '', 'keywords': '', 'language': 'en', 'text_location': [-1, -1, -1, -1], 'text_location_max_dimensions': [-1, -1]}, 'image_metadata': None, 'table_metadata': None, 'chart_metadata': None, 'error_metadata': None, 'info_message_metadata': None, 'debug_metadata': None, 'raise_on_failure': False, 'meta_a': 'alpha', 'meta_b': 5, 'meta_c': True, 'meta_d': 10.0}, 'text': 'Stopping by Woods on a Snowy Evening, By Robert Frost\\r\\nFigure 1: Snowy Woods\\r\\nWhose woods these are I think I know. His house is in the village though; He will not see me \\r\\nstopping here; To watch his woods fill up with snow. \\r\\nMy little horse must think it queer; To stop without a farmhouse near; Between the woods and \\r\\nfrozen lake; The darkest evening of the year. \\r\\nHe gives his harness bells a shake; To ask if there is some mistake. The only other sound’s the \\r\\nsweep; Of easy wind and downy flake. \\r\\nThe woods are lovely, dark and deep, But I have promises to keep, And miles to go before I \\r\\nsleep, And miles to go before I sleep.\\r\\nFrost’s Collections\\r\\nFigure 2: Robert Frost'}}, {'id': 459164003456523112, 'distance': 0.016129031777381897, 'entity': {'source': {'source_name': '/raid/nv-ingest/data/woods_frost.pdf', 'source_id': '/raid/nv-ingest/data/woods_frost.pdf', 'source_location': '', 'source_type': 'PDF', 'collection_id': '', 'date_created': '2024-04-30T18:02:30', 'last_modified': '2024-04-30T18:02:32', 'summary': '', 'partition_id': -1, 'access_level': -1}, 'content_metadata': {'content_url': '', 'content_metadata': {'type': 'text', 'description': 'Unstructured text from PDF document.', 'page_number': 1, 'hierarchy': {'page_count': 2, 'page': 1, 'block': -1, 'line': -1, 'span': -1, 'nearby_objects': {'text': {'content': [], 'bbox': [], 'type': []}, 'images': {'content': [], 'bbox': [], 'type': []}, 'structured': {'content': [], 'bbox': [], 'type': []}}}, 'subtype': '', 'start_time': -1, 'end_time': -1, 'location': None, 'max_dimensions': None}, 'audio_metadata': None, 'text_metadata': {'text_type': 'page', 'summary': '', 'keywords': '', 'language': 'en', 'text_location': [-1, -1, -1, -1], 'text_location_max_dimensions': [-1, -1]}, 'image_metadata': None, 'table_metadata': None, 'chart_metadata': None, 'error_metadata': None, 'info_message_metadata': None, 'debug_metadata': None, 'raise_on_failure': False, 'meta_a': 'alpha', 'meta_b': 5, 'meta_c': True, 'meta_d': 10.0}, 'text': \"# Collection Year 1 A Boy's Will 1913 2 North of Boston 1914 3 Mountain Interval 1916 4 New Hampshire 1923 5 West Running Brook 1928 6 A Further Range 1937 7 A Witness Tree 1942 8 In the Clearing 1962 9 Steeple Bush 1947\\r\\n10 An Afterwordunknown\"}}, {'id': 459164003456523114, 'distance': 0.01587301678955555, 'entity': {'source': {'source_name': '/raid/nv-ingest/data/woods_frost.pdf', 'source_id': '/raid/nv-ingest/data/woods_frost.pdf', 'source_location': '', 'source_type': 'PDF', 'collection_id': '', 'date_created': '2024-04-30T18:02:30', 'last_modified': '2024-04-30T18:02:32', 'summary': '', 'partition_id': -1, 'access_level': -1}, 'content_metadata': {'content_url': '', 'content_metadata': {'type': 'structured', 'description': 'Structured table extracted from PDF document.', 'page_number': 1, 'hierarchy': {'page_count': 2, 'page': 1, 'block': -1, 'line': -1, 'span': -1, 'nearby_objects': {'text': {'content': [], 'bbox': [], 'type': []}, 'images': {'content': [], 'bbox': [], 'type': []}, 'structured': {'content': [], 'bbox': [], 'type': []}}}, 'subtype': 'table', 'start_time': -1, 'end_time': -1, 'location': [89, 29, 697, 379], 'max_dimensions': [792, 1024]}, 'audio_metadata': None, 'text_metadata': None, 'image_metadata': None, 'table_metadata': {'caption': '', 'table_format': 'image', 'table_content': \"| # | Collection | Year |\\n| 1 | A Boy's Will | 1913 |\\n| 2 | North of Boston | 1914 |\\n| 3 | Mountain Interval | 1916 |\\n| 4 | New Hampshire | 1923 |\\n| 5 | West Running Brook | 1928 |\\n| 6 | A Further Range | 1937 |\\n| 7 | A Witness Tree | 1942 |\\n| 8 | In the Clearing | 1962 |\\n| 9 | Steeple Bush | 1947 |\\n| 10 | An Afterword | unknown |\\n\", 'table_content_format': 'pseudo_markdown', 'table_location': [89, 29, 697, 379], 'table_location_max_dimensions': [792, 1024], 'uploaded_image_uri': ''}, 'chart_metadata': None, 'error_metadata': None, 'info_message_metadata': None, 'debug_metadata': None, 'raise_on_failure': False, 'meta_a': 'alpha', 'meta_b': 5, 'meta_c': True, 'meta_d': 10.0}, 'text': \"| # | Collection | Year |\\n| 1 | A Boy's Will | 1913 |\\n| 2 | North of Boston | 1914 |\\n| 3 | Mountain Interval | 1916 |\\n| 4 | New Hampshire | 1923 |\\n| 5 | West Running Brook | 1928 |\\n| 6 | A Further Range | 1937 |\\n| 7 | A Witness Tree | 1942 |\\n| 8 | In the Clearing | 1962 |\\n| 9 | Steeple Bush | 1947 |\\n| 10 | An Afterword | unknown |\\n\"}}]]]\n"
     ]
    }
   ],
   "source": [
    "queries = [\"this is expensive\"]\n",
    "top_k = 5\n",
    "q_results = []\n",
    "for que in queries:\n",
    "    q_results.append(nvingest_retrieval([que], collection_name=collection_name, host=f\"http://{hostname}:19530\", embedding_endpoint=f\"http://{hostname}:8012/v1\",  hybrid=sparse, top_k=top_k, model_name=model_name, gpu_search=False\n",
    "                                            , _filter='content_metadata[\"meta_c\"] == True'\n",
    "                                           ))\n",
    "\n",
    "print(f\"{q_results}\")"
   ]
  },
  {
   "cell_type": "markdown",
   "id": "671433a4-5100-4f24-82fc-e57e87c6cfaa",
   "metadata": {},
   "source": [
    "In the following retrieval run, we will construct a filter expression using the `meta_d` field and we will retrieve all available chunks that have a `meta_d` value of less than 20. This should correspond to the five chunks in the `woods_frost.pdf`."
   ]
  },
  {
   "cell_type": "code",
   "execution_count": 9,
   "id": "efec47be-75c2-4202-aade-3fa503006918",
   "metadata": {},
   "outputs": [
    {
     "name": "stdout",
     "output_type": "stream",
     "text": [
      "[data: [[{'id': 459164003456523110, 'distance': 0.016393441706895828, 'entity': {'content_metadata': {'content_url': '', 'content_metadata': {'type': 'text', 'description': 'Unstructured text from PDF document.', 'page_number': 0, 'hierarchy': {'page_count': 2, 'page': 0, 'block': -1, 'line': -1, 'span': -1, 'nearby_objects': {'text': {'content': [], 'bbox': [], 'type': []}, 'images': {'content': [], 'bbox': [], 'type': []}, 'structured': {'content': [], 'bbox': [], 'type': []}}}, 'subtype': '', 'start_time': -1, 'end_time': -1, 'location': None, 'max_dimensions': None}, 'audio_metadata': None, 'text_metadata': {'text_type': 'page', 'summary': '', 'keywords': '', 'language': 'en', 'text_location': [-1, -1, -1, -1], 'text_location_max_dimensions': [-1, -1]}, 'image_metadata': None, 'table_metadata': None, 'chart_metadata': None, 'error_metadata': None, 'info_message_metadata': None, 'debug_metadata': None, 'raise_on_failure': False, 'meta_a': 'alpha', 'meta_b': 5, 'meta_c': True, 'meta_d': 10.0}, 'text': 'Stopping by Woods on a Snowy Evening, By Robert Frost\\r\\nFigure 1: Snowy Woods\\r\\nWhose woods these are I think I know. His house is in the village though; He will not see me \\r\\nstopping here; To watch his woods fill up with snow. \\r\\nMy little horse must think it queer; To stop without a farmhouse near; Between the woods and \\r\\nfrozen lake; The darkest evening of the year. \\r\\nHe gives his harness bells a shake; To ask if there is some mistake. The only other sound’s the \\r\\nsweep; Of easy wind and downy flake. \\r\\nThe woods are lovely, dark and deep, But I have promises to keep, And miles to go before I \\r\\nsleep, And miles to go before I sleep.\\r\\nFrost’s Collections\\r\\nFigure 2: Robert Frost', 'source': {'source_name': '/raid/nv-ingest/data/woods_frost.pdf', 'source_id': '/raid/nv-ingest/data/woods_frost.pdf', 'source_location': '', 'source_type': 'PDF', 'collection_id': '', 'date_created': '2024-04-30T18:02:30', 'last_modified': '2024-04-30T18:02:32', 'summary': '', 'partition_id': -1, 'access_level': -1}}}, {'id': 459164003456523112, 'distance': 0.016129031777381897, 'entity': {'content_metadata': {'content_url': '', 'content_metadata': {'type': 'text', 'description': 'Unstructured text from PDF document.', 'page_number': 1, 'hierarchy': {'page_count': 2, 'page': 1, 'block': -1, 'line': -1, 'span': -1, 'nearby_objects': {'text': {'content': [], 'bbox': [], 'type': []}, 'images': {'content': [], 'bbox': [], 'type': []}, 'structured': {'content': [], 'bbox': [], 'type': []}}}, 'subtype': '', 'start_time': -1, 'end_time': -1, 'location': None, 'max_dimensions': None}, 'audio_metadata': None, 'text_metadata': {'text_type': 'page', 'summary': '', 'keywords': '', 'language': 'en', 'text_location': [-1, -1, -1, -1], 'text_location_max_dimensions': [-1, -1]}, 'image_metadata': None, 'table_metadata': None, 'chart_metadata': None, 'error_metadata': None, 'info_message_metadata': None, 'debug_metadata': None, 'raise_on_failure': False, 'meta_a': 'alpha', 'meta_b': 5, 'meta_c': True, 'meta_d': 10.0}, 'text': \"# Collection Year 1 A Boy's Will 1913 2 North of Boston 1914 3 Mountain Interval 1916 4 New Hampshire 1923 5 West Running Brook 1928 6 A Further Range 1937 7 A Witness Tree 1942 8 In the Clearing 1962 9 Steeple Bush 1947\\r\\n10 An Afterwordunknown\", 'source': {'source_name': '/raid/nv-ingest/data/woods_frost.pdf', 'source_id': '/raid/nv-ingest/data/woods_frost.pdf', 'source_location': '', 'source_type': 'PDF', 'collection_id': '', 'date_created': '2024-04-30T18:02:30', 'last_modified': '2024-04-30T18:02:32', 'summary': '', 'partition_id': -1, 'access_level': -1}}}, {'id': 459164003456523114, 'distance': 0.01587301678955555, 'entity': {'content_metadata': {'content_url': '', 'content_metadata': {'type': 'structured', 'description': 'Structured table extracted from PDF document.', 'page_number': 1, 'hierarchy': {'page_count': 2, 'page': 1, 'block': -1, 'line': -1, 'span': -1, 'nearby_objects': {'text': {'content': [], 'bbox': [], 'type': []}, 'images': {'content': [], 'bbox': [], 'type': []}, 'structured': {'content': [], 'bbox': [], 'type': []}}}, 'subtype': 'table', 'start_time': -1, 'end_time': -1, 'location': [89, 29, 697, 379], 'max_dimensions': [792, 1024]}, 'audio_metadata': None, 'text_metadata': None, 'image_metadata': None, 'table_metadata': {'caption': '', 'table_format': 'image', 'table_content': \"| # | Collection | Year |\\n| 1 | A Boy's Will | 1913 |\\n| 2 | North of Boston | 1914 |\\n| 3 | Mountain Interval | 1916 |\\n| 4 | New Hampshire | 1923 |\\n| 5 | West Running Brook | 1928 |\\n| 6 | A Further Range | 1937 |\\n| 7 | A Witness Tree | 1942 |\\n| 8 | In the Clearing | 1962 |\\n| 9 | Steeple Bush | 1947 |\\n| 10 | An Afterword | unknown |\\n\", 'table_content_format': 'pseudo_markdown', 'table_location': [89, 29, 697, 379], 'table_location_max_dimensions': [792, 1024], 'uploaded_image_uri': ''}, 'chart_metadata': None, 'error_metadata': None, 'info_message_metadata': None, 'debug_metadata': None, 'raise_on_failure': False, 'meta_a': 'alpha', 'meta_b': 5, 'meta_c': True, 'meta_d': 10.0}, 'text': \"| # | Collection | Year |\\n| 1 | A Boy's Will | 1913 |\\n| 2 | North of Boston | 1914 |\\n| 3 | Mountain Interval | 1916 |\\n| 4 | New Hampshire | 1923 |\\n| 5 | West Running Brook | 1928 |\\n| 6 | A Further Range | 1937 |\\n| 7 | A Witness Tree | 1942 |\\n| 8 | In the Clearing | 1962 |\\n| 9 | Steeple Bush | 1947 |\\n| 10 | An Afterword | unknown |\\n\", 'source': {'source_name': '/raid/nv-ingest/data/woods_frost.pdf', 'source_id': '/raid/nv-ingest/data/woods_frost.pdf', 'source_location': '', 'source_type': 'PDF', 'collection_id': '', 'date_created': '2024-04-30T18:02:30', 'last_modified': '2024-04-30T18:02:32', 'summary': '', 'partition_id': -1, 'access_level': -1}}}]]]\n"
     ]
    }
   ],
   "source": [
    "queries = [\"this is expensive\"]\n",
    "top_k = 5\n",
    "q_results = []\n",
    "for que in queries:\n",
    "    q_results.append(nvingest_retrieval([que], collection_name=collection_name, host=f\"http://{hostname}:19530\", embedding_endpoint=f\"http://{hostname}:8012/v1\",  hybrid=sparse, top_k=top_k, model_name=model_name, gpu_search=False\n",
    "                                            , _filter='content_metadata[\"meta_d\"] < 20 '\n",
    "                                           ))\n",
    "\n",
    "print(f\"{q_results}\")"
   ]
  },
  {
   "cell_type": "code",
   "execution_count": null,
   "id": "0f82334f-f30e-4069-aade-3f1c3823ba52",
   "metadata": {},
   "outputs": [],
   "source": []
  }
 ],
 "metadata": {
  "kernelspec": {
   "display_name": "Python 3 (ipykernel)",
   "language": "python",
   "name": "python3"
  },
  "language_info": {
   "codemirror_mode": {
    "name": "ipython",
    "version": 3
   },
   "file_extension": ".py",
   "mimetype": "text/x-python",
   "name": "python",
   "nbconvert_exporter": "python",
   "pygments_lexer": "ipython3",
   "version": "3.12.11"
  }
 },
 "nbformat": 4,
 "nbformat_minor": 5
}
